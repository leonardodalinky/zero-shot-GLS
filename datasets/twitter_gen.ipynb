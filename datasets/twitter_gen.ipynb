{
 "cells": [
  {
   "cell_type": "code",
   "execution_count": 1,
   "metadata": {},
   "outputs": [
    {
     "name": "stderr",
     "output_type": "stream",
     "text": [
      "/home/link/miniconda3/envs/zgls/lib/python3.10/site-packages/tqdm/auto.py:21: TqdmWarning: IProgress not found. Please update jupyter and ipywidgets. See https://ipywidgets.readthedocs.io/en/stable/user_install.html\n",
      "  from .autonotebook import tqdm as notebook_tqdm\n"
     ]
    }
   ],
   "source": [
    "%load_ext autoreload\n",
    "%autoreload 2\n",
    "\n",
    "import os\n",
    "os.environ[\"HF_HOME\"] = \"../tmp_saves/hg_cache\"\n",
    "\n",
    "import nltk\n",
    "import csv\n",
    "import matplotlib.pyplot as plt\n",
    "from tqdm import tqdm\n",
    "from datasets import load_dataset"
   ]
  },
  {
   "cell_type": "code",
   "execution_count": 2,
   "metadata": {},
   "outputs": [],
   "source": [
    "def show_word_lens_hist(word_lens):\n",
    "    plt.hist(word_lens, bins=100, cumulative=True, histtype=\"step\", density=True)\n",
    "    plt.title(\"Word length histogram\")\n",
    "    plt.xlabel(\"Word length\")\n",
    "    plt.ylabel(\"Cumulative probability\")\n",
    "    plt.show()"
   ]
  },
  {
   "attachments": {},
   "cell_type": "markdown",
   "metadata": {},
   "source": [
    "## Twitter"
   ]
  },
  {
   "cell_type": "code",
   "execution_count": 4,
   "metadata": {},
   "outputs": [
    {
     "name": "stderr",
     "output_type": "stream",
     "text": [
      "Downloading builder script: 100%|██████████| 4.03k/4.03k [00:00<00:00, 1.41MB/s]\n",
      "Downloading readme: 100%|██████████| 6.84k/6.84k [00:00<00:00, 2.79MB/s]\n",
      "Downloading data: 100%|██████████| 81.4M/81.4M [00:06<00:00, 12.3MB/s]  \n",
      "Generating train split: 100%|██████████| 1600000/1600000 [00:41<00:00, 38100.93 examples/s]\n",
      "Generating test split: 100%|██████████| 498/498 [00:00<00:00, 34403.32 examples/s]\n"
     ]
    },
    {
     "data": {
      "text/plain": [
       "DatasetDict({\n",
       "    train: Dataset({\n",
       "        features: ['text', 'date', 'user', 'sentiment', 'query'],\n",
       "        num_rows: 1600000\n",
       "    })\n",
       "    test: Dataset({\n",
       "        features: ['text', 'date', 'user', 'sentiment', 'query'],\n",
       "        num_rows: 498\n",
       "    })\n",
       "})"
      ]
     },
     "execution_count": 4,
     "metadata": {},
     "output_type": "execute_result"
    }
   ],
   "source": [
    "dataset = load_dataset(\"sentiment140\")\n",
    "dataset"
   ]
  },
  {
   "cell_type": "code",
   "execution_count": 5,
   "metadata": {},
   "outputs": [
    {
     "data": {
      "text/plain": [
       "{'text': \"@switchfoot http://twitpic.com/2y1zl - Awww, that's a bummer.  You shoulda got David Carr of Third Day to do it. ;D\",\n",
       " 'date': 'Mon Apr 06 22:19:45 PDT 2009',\n",
       " 'user': '_TheSpecialOne_',\n",
       " 'sentiment': 0,\n",
       " 'query': 'NO_QUERY'}"
      ]
     },
     "execution_count": 5,
     "metadata": {},
     "output_type": "execute_result"
    }
   ],
   "source": [
    "dataset[\"train\"][0]"
   ]
  },
  {
   "cell_type": "code",
   "execution_count": 7,
   "metadata": {},
   "outputs": [
    {
     "name": "stderr",
     "output_type": "stream",
     "text": [
      "  0%|          | 0/1600000 [00:00<?, ?it/s]"
     ]
    },
    {
     "name": "stderr",
     "output_type": "stream",
     "text": [
      "100%|██████████| 1600000/1600000 [04:36<00:00, 5789.30it/s]\n"
     ]
    },
    {
     "data": {
      "image/png": "[encoded data removed]",
      "text/plain": [
       "<Figure size 640x480 with 1 Axes>"
      ]
     },
     "metadata": {},
     "output_type": "display_data"
    }
   ],
   "source": [
    "n_sents = 0\n",
    "SENT_LEN_THRES = 32\n",
    "SENT_LEN_MIN_THRES = 16\n",
    "all_word_lens = list()\n",
    "with open(\"twitter.csv\", \"w\") as fp:\n",
    "    writer = csv.DictWriter(fp, fieldnames=[\"sentence_id\", \"plaintext\"])\n",
    "    writer.writeheader()\n",
    "    for example in tqdm(dataset[\"train\"]):\n",
    "        text = example[\"text\"]\n",
    "        sents = nltk.sent_tokenize(text)\n",
    "        sents_buf = \"\"\n",
    "        for sent_idx, sent in enumerate(sents):\n",
    "            sents_buf += sent + \" \"\n",
    "            sents_buf = sents_buf.strip()\n",
    "            if len(sents_buf) >= SENT_LEN_THRES:\n",
    "                writer.writerow({\"sentence_id\": n_sents, \"plaintext\": sents_buf})\n",
    "                all_word_lens.append(len(nltk.word_tokenize(sents_buf)))\n",
    "                sents_buf = \"\"\n",
    "                n_sents += 1\n",
    "        if len(sents_buf) >= SENT_LEN_MIN_THRES:\n",
    "            writer.writerow({\"sentence_id\": n_sents, \"plaintext\": sents_buf})\n",
    "            all_word_lens.append(len(nltk.word_tokenize(sents_buf)))\n",
    "            n_sents += 1\n",
    "\n",
    "show_word_lens_hist(all_word_lens)"
   ]
  }
 ],
 "metadata": {
  "kernelspec": {
   "display_name": "torch",
   "language": "python",
   "name": "python3"
  },
  "language_info": {
   "codemirror_mode": {
    "name": "ipython",
    "version": 3
   },
   "file_extension": ".py",
   "mimetype": "text/x-python",
   "name": "python",
   "nbconvert_exporter": "python",
   "pygments_lexer": "ipython3",
   "version": "3.10.13"
  },
  "orig_nbformat": 4
 },
 "nbformat": 4,
 "nbformat_minor": 2
}
