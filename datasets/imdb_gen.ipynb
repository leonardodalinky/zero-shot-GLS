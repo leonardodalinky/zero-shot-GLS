{
 "cells": [
  {
   "cell_type": "code",
   "execution_count": null,
   "metadata": {},
   "outputs": [],
   "source": [
    "%load_ext autoreload\n",
    "%autoreload 2\n",
    "\n",
    "import os\n",
    "os.environ[\"HF_HOME\"] = \"../tmp_saves/hg_cache\"\n",
    "\n",
    "import re\n",
    "import nltk\n",
    "import csv\n",
    "import matplotlib.pyplot as plt\n",
    "from tqdm import tqdm\n",
    "from datasets import load_dataset"
   ]
  },
  {
   "cell_type": "code",
   "execution_count": 7,
   "metadata": {},
   "outputs": [],
   "source": [
    "def show_word_lens_hist(word_lens):\n",
    "    plt.hist(word_lens, bins=100, cumulative=True, histtype=\"step\", density=True)\n",
    "    plt.title(\"Word length histogram\")\n",
    "    plt.xlabel(\"Word length\")\n",
    "    plt.ylabel(\"Cumulative probability\")\n",
    "    plt.show()"
   ]
  },
  {
   "attachments": {},
   "cell_type": "markdown",
   "metadata": {},
   "source": [
    "## IMDB"
   ]
  },
  {
   "cell_type": "code",
   "execution_count": 2,
   "metadata": {},
   "outputs": [
    {
     "data": {
      "text/plain": [
       "DatasetDict({\n",
       "    train: Dataset({\n",
       "        features: ['text', 'label'],\n",
       "        num_rows: 25000\n",
       "    })\n",
       "    test: Dataset({\n",
       "        features: ['text', 'label'],\n",
       "        num_rows: 25000\n",
       "    })\n",
       "    unsupervised: Dataset({\n",
       "        features: ['text', 'label'],\n",
       "        num_rows: 50000\n",
       "    })\n",
       "})"
      ]
     },
     "execution_count": 2,
     "metadata": {},
     "output_type": "execute_result"
    }
   ],
   "source": [
    "dataset = load_dataset(\"imdb\")\n",
    "dataset"
   ]
  },
  {
   "cell_type": "code",
   "execution_count": 3,
   "metadata": {},
   "outputs": [],
   "source": [
    "CLEANR = re.compile('<.*?>|&([a-z0-9]+|#[0-9]{1,6}|#x[0-9a-f]{1,6});')\n",
    "\n",
    "def cleanhtml(raw_html):\n",
    "    return re.sub(CLEANR, '', raw_html)"
   ]
  },
  {
   "cell_type": "code",
   "execution_count": 4,
   "metadata": {},
   "outputs": [
    {
     "data": {
      "text/plain": [
       "{'text': 'This is just a precious little diamond. The play, the script are excellent. I cant compare this movie with anything else, maybe except the movie \"Leon\" wonderfully played by Jean Reno and Natalie Portman. But... What can I say about this one? This is the best movie Anne Parillaud has ever played in (See please \"Frankie Starlight\", she\\'s speaking English there) to see what I mean. The story of young punk girl Nikita, taken into the depraved world of the secret government forces has been exceptionally over used by Americans. Never mind the \"Point of no return\" and especially the \"La femme Nikita\" TV series. They cannot compare the original believe me! Trash these videos. Buy this one, do not rent it, BUY it. BTW beware of the subtitles of the LA company which \"translate\" the US release. What a disgrace! If you cant understand French, get a dubbed version. But you\\'ll regret later :)',\n",
       " 'label': -1}"
      ]
     },
     "execution_count": 4,
     "metadata": {},
     "output_type": "execute_result"
    }
   ],
   "source": [
    "dataset[\"unsupervised\"][0]"
   ]
  },
  {
   "cell_type": "code",
   "execution_count": 8,
   "metadata": {},
   "outputs": [
    {
     "name": "stderr",
     "output_type": "stream",
     "text": [
      "100%|██████████| 50000/50000 [01:00<00:00, 832.99it/s]\n"
     ]
    },
    {
     "data": {
      "image/png": "[encoded data removed]",
      "text/plain": [
       "<Figure size 640x480 with 1 Axes>"
      ]
     },
     "metadata": {},
     "output_type": "display_data"
    }
   ],
   "source": [
    "n_sents = 0\n",
    "SENT_LEN_THRES = 32\n",
    "SENT_LEN_MIN_THRES = 16\n",
    "all_word_lens = list()\n",
    "with open(\"imdb.csv\", \"w\") as fp:\n",
    "    writer = csv.DictWriter(fp, fieldnames=[\"sentence_id\", \"plaintext\"])\n",
    "    writer.writeheader()\n",
    "    for example in tqdm(dataset[\"unsupervised\"]):\n",
    "        text = example[\"text\"]\n",
    "        text = cleanhtml(text)\n",
    "        sents = nltk.sent_tokenize(text)\n",
    "        sents_buf = \"\"\n",
    "        for sent_idx, sent in enumerate(sents):\n",
    "            sents_buf += sent + \" \"\n",
    "            sents_buf = sents_buf.strip()\n",
    "            if len(sents_buf) >= SENT_LEN_THRES:\n",
    "                writer.writerow({\"sentence_id\": n_sents, \"plaintext\": sents_buf})\n",
    "                all_word_lens.append(len(nltk.word_tokenize(sents_buf)))\n",
    "                sents_buf = \"\"\n",
    "                n_sents += 1\n",
    "        if len(sents_buf) >= SENT_LEN_MIN_THRES:\n",
    "            writer.writerow({\"sentence_id\": n_sents, \"plaintext\": sents_buf})\n",
    "            all_word_lens.append(len(nltk.word_tokenize(sents_buf)))\n",
    "            n_sents += 1\n",
    "\n",
    "show_word_lens_hist(all_word_lens)"
   ]
  }
 ],
 "metadata": {
  "kernelspec": {
   "display_name": "torch",
   "language": "python",
   "name": "python3"
  },
  "language_info": {
   "codemirror_mode": {
    "name": "ipython",
    "version": 3
   },
   "file_extension": ".py",
   "mimetype": "text/x-python",
   "name": "python",
   "nbconvert_exporter": "python",
   "pygments_lexer": "ipython3",
   "version": "3.10.13"
  },
  "orig_nbformat": 4
 },
 "nbformat": 4,
 "nbformat_minor": 2
}
